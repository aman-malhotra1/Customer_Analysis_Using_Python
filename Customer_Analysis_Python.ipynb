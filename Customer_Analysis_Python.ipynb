{
  "nbformat": 4,
  "nbformat_minor": 0,
  "metadata": {
    "colab": {
      "provenance": []
    },
    "kernelspec": {
      "name": "python3",
      "display_name": "Python 3"
    },
    "language_info": {
      "name": "python"
    }
  },
  "cells": [
    {
      "cell_type": "code",
      "execution_count": null,
      "metadata": {
        "id": "UCHocSSrhvLX"
      },
      "outputs": [],
      "source": [
        "from google.colab import drive\n",
        "drive.mount('/content/drive')"
      ]
    },
    {
      "cell_type": "code",
      "source": [
        "!pip install pyxlsb"
      ],
      "metadata": {
        "id": "Bk5Sv-_Fh0QR"
      },
      "execution_count": null,
      "outputs": []
    },
    {
      "cell_type": "code",
      "source": [
        "import numpy as np\n",
        "import pandas as pd\n",
        "import pyxlsb\n",
        "import seaborn as sns\n",
        "import matplotlib.pyplot as plt\n",
        "from itertools import product\n",
        "pd.set_option('display.max_colwidth', 1000)"
      ],
      "metadata": {
        "id": "b9yIPGMai2Pa"
      },
      "execution_count": null,
      "outputs": []
    },
    {
      "cell_type": "code",
      "source": [
        "%%time\n",
        "DATASET_PATH = \"\"\n",
        "data_AS = pd.read_excel(DATASET_PATH, sheet_name = \"AS\", engine='pyxlsb')\n",
        "data_HB = pd.read_excel(DATASET_PATH, sheet_name = \"HB\", engine='pyxlsb')\n",
        "data_DRV = pd.read_excel(DATASET_PATH, sheet_name = \"DRV\", engine='pyxlsb')"
      ],
      "metadata": {
        "id": "84WrHeZri3hf"
      },
      "execution_count": null,
      "outputs": []
    },
    {
      "cell_type": "markdown",
      "source": [
        "## Orders Completed ,Cancelled and Returned"
      ],
      "metadata": {
        "id": "FbgxMpcRjPJi"
      }
    },
    {
      "cell_type": "code",
      "source": [
        "Total_orders =     data_AS['Order ID'].nunique()\n",
        "order_completed =  data_AS[(data_AS['Order Status']=='Completed') | (data_AS['Order Status']=='Pickup Scheduled')\n",
        "                      | (data_AS['Order Status']=='Processing') | (data_AS['Order Status']=='Ready to Process') | (data_AS['Order Status']=='Ready to Ship')\n",
        "                      | (data_AS['Order Status']=='Shipdelight') | (data_AS['Order Status']=='Shipped') | (data_AS['Order Status']=='Shiprocket')].shape[0]\n",
        "order_cancelled =  data_AS[(data_AS['Order Status']=='Cancelled') | (data_AS['Order Status']=='Failed') | (data_AS['Order Status']=='Not Serviceable') |\n",
        "                           (data_AS['Order Status']=='On hold') | (data_AS['Order Status']=='Pending payment')].shape[0]\n",
        "order_returned =   data_AS[(data_AS['Order Status']=='Refunded') | (data_AS['Order Status']=='RTO DELIVERED')].shape[0]"
      ],
      "metadata": {
        "id": "OkzRpe81i8f_"
      },
      "execution_count": null,
      "outputs": []
    },
    {
      "cell_type": "code",
      "source": [
        "Order_Status_df = pd.DataFrame(data=[Total_orders, order_completed,order_cancelled, order_returned],\n",
        "                                  index = [\"Total orders\",\"Orders completed\", \"Order cancelled\", \"Order Returned\"],\n",
        "                               columns = ['orders'])\n",
        "Order_Status_df['Percentage'] = round(Order_Status_df['orders'] *100 /Total_orders,2)"
      ],
      "metadata": {
        "id": "gRYKryZvk1zF"
      },
      "execution_count": null,
      "outputs": []
    },
    {
      "cell_type": "code",
      "source": [
        "Order_Status_df"
      ],
      "metadata": {
        "id": "r9NpxR8bk3w6"
      },
      "execution_count": null,
      "outputs": []
    },
    {
      "cell_type": "markdown",
      "source": [
        "## Customers with only 1 order, customers with more than 2,3,4,5 orders"
      ],
      "metadata": {
        "id": "SGkHl3nVsUtA"
      }
    },
    {
      "cell_type": "code",
      "source": [
        "df = pd.DataFrame(data_AS['Email (Billing)'].value_counts()).reset_index(drop=False)\n",
        "df.rename(columns = {\"index\":\"Email_ID\",\"Email (Billing)\" : \"Count\" }, inplace = True)"
      ],
      "metadata": {
        "id": "AINvz9n0odoC"
      },
      "execution_count": null,
      "outputs": []
    },
    {
      "cell_type": "code",
      "source": [
        "for i in np.arange(5):\n",
        "  print(\"No. of Customers with only {} order/orders : {}\".format(i+1,len(df[df['Count']==i+1])))"
      ],
      "metadata": {
        "id": "RH3FjxcqtVyM"
      },
      "execution_count": null,
      "outputs": []
    },
    {
      "cell_type": "code",
      "source": [
        "print(\"No. of Customers with 2 or more orders : \",len(df[df['Count']>=2]))\n",
        "print(\"No. of Customers with 3 or more orders : \",len(df[df['Count']>=3]))\n",
        "print(\"No. of Customers with 4 or more orders : \",len(df[df['Count']>=4]))\n",
        "print(\"No. of Customers with 5 or more orders : \",len(df[df['Count']>=5]))"
      ],
      "metadata": {
        "id": "_9c1cgD03otb"
      },
      "execution_count": null,
      "outputs": []
    },
    {
      "cell_type": "code",
      "source": [
        "# Exporting Files to CSV\n",
        "customer_with_5_and_more = df[df['Count']>=5]\n",
        "output =data_AS[data_AS['Email (Billing)'].isin(customer_with_5_and_more['Email_ID'])]\n",
        "print(len(output['Email (Billing)'].unique()))\n",
        "output.to_csv(\"\", index= False)"
      ],
      "metadata": {
        "id": "L0G30hsk5qSg"
      },
      "execution_count": null,
      "outputs": []
    },
    {
      "cell_type": "markdown",
      "source": [
        "## What is the median Average Order Value? Put customers in three buckets based on AOV - Low, Median, High\n"
      ],
      "metadata": {
        "id": "fByQ4S6U4Z7T"
      }
    },
    {
      "cell_type": "code",
      "source": [
        "median_order_value = data_AS['Order Total Amount'].median()\n",
        "\n",
        "def get_AOV_status(x):\n",
        "  if (x < median_order_value):\n",
        "    return \"Low AOV Customer\"\n",
        "  elif (x == median_order_value):\n",
        "    return \"Medium AOV Customer\"\n",
        "  elif (x > median_order_value):\n",
        "    return \"High AOV Customer\"\n",
        "\n",
        "data_AS_AOV = pd.DataFrame(data_AS.groupby('Email (Billing)')['Order Total Amount'].sum()).reset_index(drop=False)\n",
        "data_AS_AOV['AOV'] = data_AS_AOV['Order Total Amount'].apply(lambda x : get_AOV_status(x))\n",
        "print(\"Median order value : \", median_order_value)"
      ],
      "metadata": {
        "id": "sjkxYWgE4BRW"
      },
      "execution_count": null,
      "outputs": []
    },
    {
      "cell_type": "code",
      "source": [
        "AOV_status = pd.DataFrame(data_AS_AOV['AOV'].value_counts().sort_values()).reset_index(drop=False)\n",
        "AOV_status.rename(columns = {\"index\" :\"Category\",\"AOV\":\"No. Of Customers\"}, inplace= True)\n",
        "AOV_status"
      ],
      "metadata": {
        "id": "0lieu8cP6o22"
      },
      "execution_count": null,
      "outputs": []
    },
    {
      "cell_type": "code",
      "source": [
        "# High AOV Customers Dataset Exporting to CSV\n",
        "high_AOV_customers = data_AS_AOV[data_AS_AOV['AOV']== \"High AOV Customer\"]\n",
        "high_AOV_customers.to_csv(\"/content/drive/MyDrive/Google Documents/UpWork_Task/Upwork_Task_Updation/AS_High_AOV_Customers.csv\", index = True)"
      ],
      "metadata": {
        "id": "oCd8G-lb-pdu"
      },
      "execution_count": null,
      "outputs": []
    },
    {
      "cell_type": "markdown",
      "source": [
        "## The lifetime value of all customers\n"
      ],
      "metadata": {
        "id": "d3VsFZ979XUH"
      }
    },
    {
      "cell_type": "code",
      "source": [
        "customer_lifetimne_value = pd.DataFrame(data_AS.groupby(['First Name (Billing)','Email (Billing)','Phone (Billing)']).agg({\"Item #\":'sum',\"Order Total Amount\":'sum'}))\n",
        "customer_lifetimne_value[\"AOV\"] = customer_lifetimne_value['Order Total Amount'] / customer_lifetimne_value['Item #']\n",
        "customer_lifetimne_value = pd.DataFrame(customer_lifetimne_value).reset_index(drop= False)\n",
        "data_AS_AOV_copy = data_AS_AOV[[\"Email (Billing)\",\"AOV\"]]\n",
        "customer_lifetimne_value = customer_lifetimne_value.merge(data_AS_AOV_copy,on = \"Email (Billing)\")\n",
        "customer_lifetimne_value.rename(columns ={\"AOV_x\":\"AOV\",\"AOV_y\":\"AOV Status\"}, inplace= True)\n",
        "customer_lifetimne_value.to_csv(\"/content/drive/MyDrive/Google Documents/UpWork_Task/Upwork_Task_Updation/AS_customer_lifetime_value.csv\", index = True)\n",
        "print(\"LifeTime Value of all Customers : \" ,np.average(customer_lifetimne_value['Order Total Amount']))"
      ],
      "metadata": {
        "id": "MoXyyAG38O1O"
      },
      "execution_count": null,
      "outputs": []
    },
    {
      "cell_type": "code",
      "source": [
        "customer_lifetimne_value"
      ],
      "metadata": {
        "id": "lsFomYcg7iE8"
      },
      "execution_count": null,
      "outputs": []
    },
    {
      "cell_type": "markdown",
      "source": [
        "## What products are frequently bought together in the same order?"
      ],
      "metadata": {
        "id": "_ONTVxf1CCT_"
      }
    },
    {
      "cell_type": "code",
      "source": [
        "# Getting Unique Products\n",
        "def get_unique_items(x):\n",
        "  unique_values = []\n",
        "  all_values = list(set((x.split(\"'\"))))\n",
        "  for i in np.arange(len(all_values)):\n",
        "    if(all_values[i]) == \", \":\n",
        "      continue\n",
        "    elif(all_values[i]) == \"\":\n",
        "      continue\n",
        "    else:\n",
        "      unique_values.append(all_values[i])\n",
        "  return unique_values\n",
        "\n",
        "frequently_bought_products = pd.DataFrame(data_AS.groupby('Item Name')['Item Name'].count()).rename(columns={\"Item Name\": \"No. of Times Purchased\"}).reset_index(drop=False)\n",
        "frequently_bought_products['No.of Items'] = frequently_bought_products['Item Name'].str.count(\"',\") +1\n",
        "frequently_bought_products.sort_values(by='No.of Items', ascending = False, inplace = True)\n",
        "frequently_bought_products = frequently_bought_products[frequently_bought_products['No.of Items']>=2].reset_index(drop=True)\n",
        "\n",
        "\n",
        "frequently_bought_products[\"Splitted_Item_Name\"] = frequently_bought_products['Item Name'].str.split(\",'\", expand=True).replace(\"'\",'')\n",
        "frequently_bought_products['Unique_Item_Name']  = frequently_bought_products['Splitted_Item_Name'].apply(lambda x : get_unique_items(x))\n",
        "frequently_bought_products['Unique_Item_Name_Count'] = frequently_bought_products['Unique_Item_Name'].str.len()\n",
        "frequently_bought_products.drop(['Splitted_Item_Name'], axis=1, inplace = True)\n",
        "frequently_bought_products.to_csv(\"/content/drive/MyDrive/Google Documents/UpWork_Task/Upwork_Task_Updation/AS_frequently_bought_Unique_products.csv\", index=True)"
      ],
      "metadata": {
        "id": "n0hCcW0MAVc5"
      },
      "execution_count": null,
      "outputs": []
    },
    {
      "cell_type": "code",
      "source": [
        "frequently_bought_products"
      ],
      "metadata": {
        "id": "v9aQF_PTkfj5"
      },
      "execution_count": null,
      "outputs": []
    },
    {
      "cell_type": "markdown",
      "source": [
        "## What products are bought by the same person in subsequent purchases?\n"
      ],
      "metadata": {
        "id": "WP0tcUm3Mwyx"
      }
    },
    {
      "cell_type": "code",
      "source": [
        "%%time\n",
        "DATASET_PATH = \"/content/drive/MyDrive/Google Documents/UpWork_Task/Upwork_Task_Updation/Dump - 2021.xlsb\"\n",
        "data_AS_1 = pd.read_excel(DATASET_PATH, sheet_name = \"AS\", engine='pyxlsb')"
      ],
      "metadata": {
        "id": "UK_DNu-HGjXT"
      },
      "execution_count": null,
      "outputs": []
    },
    {
      "cell_type": "code",
      "source": [
        "# Sort data as per order ID\n",
        "data_AS_1 = data_AS_1.sort_values(by=\"Order ID\", ascending = True).reset_index(drop=True)"
      ],
      "metadata": {
        "id": "aGNdUxcagsUJ"
      },
      "execution_count": null,
      "outputs": []
    },
    {
      "cell_type": "code",
      "source": [
        "# Get Combination of All Two Lists\n",
        "First_Time_Purchased_Item = data_AS_1['Item Name'].unique()\n",
        "Second_Time_Purchased_Item = data_AS_1['Item Name'].unique()\n",
        "cross_selling = pd.DataFrame(list(product(First_Time_Purchased_Item, Second_Time_Purchased_Item)), columns=['First_Time_Purchased_Item', 'Second_Time_Purchased_Item'])\n",
        "cross_selling['instance'] = 0\n",
        "\n",
        "\n",
        "unique_email_ids = data_AS_1['Email (Billing)'].unique()\n",
        "for i in np.arange(len(unique_email_ids)):\n",
        "  unique_orders = data_AS_1[data_AS_1[\"Email (Billing)\"] == unique_email_ids[i]]['Order ID'].unique().tolist()\n",
        "  if(len(unique_orders)>1):\n",
        "    for j in np.arange(len(unique_orders)):\n",
        "      previous_order_items = data_AS_1[data_AS_1['Order ID'] == unique_orders[j]]['Item Name'].unique().tolist()\n",
        "      all_next_orders_items = data_AS_1[data_AS_1['Order ID'].isin(unique_orders[j+1:len(unique_orders)])]['Item Name'].unique().tolist()\n",
        "      temp_df = pd.DataFrame(list(product(previous_order_items, all_next_orders_items)), columns=['previous_order_items', 'all_next_orders_items'])\n",
        "      for p in np.arange(len(temp_df)):\n",
        "        first_value = temp_df['previous_order_items'][p]\n",
        "        second_value = temp_df['all_next_orders_items'][p]\n",
        "        if(first_value != second_value):\n",
        "            index = cross_selling.index[(cross_selling['First_Time_Purchased_Item']==first_value) & (cross_selling['Second_Time_Purchased_Item']==second_value)]\n",
        "            cross_selling['instance'][index[0]] += 1"
      ],
      "metadata": {
        "id": "qyNtObrMOyIe"
      },
      "execution_count": null,
      "outputs": []
    },
    {
      "cell_type": "code",
      "source": [
        "# Exorting to CSV\n",
        "cross_selling.to_csv(\"/content/drive/MyDrive/Google Documents/UpWork_Task/Upwork_Task_Updation/Subsequent_Purchase.csv\", index= False)"
      ],
      "metadata": {
        "id": "a3gsmGoQxRaI"
      },
      "execution_count": null,
      "outputs": []
    },
    {
      "cell_type": "markdown",
      "source": [
        "## What is the customer overlap between the three sites?"
      ],
      "metadata": {
        "id": "w3GXFdo1ib6b"
      }
    },
    {
      "cell_type": "code",
      "source": [
        "# AS HB DRV\n",
        "unique_customers_AS = data_AS['Email (Billing)'].unique().tolist()\n",
        "unique_customers_HB = data_HB['Email (Billing)'].unique().tolist()\n",
        "unique_customers_DRV = data_DRV['Email (Billing)'].unique().tolist()\n",
        "\n",
        "print(\"Unique Customers in AS :\",len(unique_customers_AS))\n",
        "print(\"Unique Customers in HB :\",len(unique_customers_HB))\n",
        "print(\"Unique Customers in DRV :\",len(unique_customers_DRV))"
      ],
      "metadata": {
        "id": "DjYxYgygQH66"
      },
      "execution_count": null,
      "outputs": []
    },
    {
      "cell_type": "code",
      "source": [
        "AS_and_HB_customers = set(unique_customers_AS) & set(unique_customers_HB)\n",
        "AS_and_DRV_customers = set(unique_customers_AS) & set(unique_customers_DRV)\n",
        "GB_and_DRV_customers = set(unique_customers_HB) & set(unique_customers_DRV)\n",
        "GB_and_DRV_and_AS_customers =  set(unique_customers_HB) & set(unique_customers_DRV) & set(unique_customers_AS)\n",
        "\n",
        "print(\"Customers who are in both AS and HB :\", len(AS_and_HB_customers))\n",
        "print(\"Customers who are in both AS and DRV :\", len(AS_and_DRV_customers))\n",
        "print(\"Customers who are in both GB and DRV :\", len(GB_and_DRV_customers))\n",
        "print(\"Customers who are in all three sites :\", len(GB_and_DRV_and_AS_customers))"
      ],
      "metadata": {
        "id": "2sVXcaKtixGh"
      },
      "execution_count": null,
      "outputs": []
    }
  ]
}